{
 "cells": [
  {
   "cell_type": "code",
   "execution_count": null,
   "metadata": {},
   "outputs": [],
   "source": [
    "import sqlalchemy\n",
    "from sqlalchemy.orm import Query"
   ]
  },
  {
   "cell_type": "code",
   "execution_count": null,
   "metadata": {},
   "outputs": [],
   "source": [
    "test='a'\n",
    "test1='b'\n",
    "\n",
    "from sqlalchemy.sql import and_, or_, not_\n",
    "print ((test < test1, test == test1))"
   ]
  },
  {
   "cell_type": "code",
   "execution_count": 31,
   "metadata": {},
   "outputs": [],
   "source": [
    "from sqlalchemy import Column, Integer, String\n",
    "from sqlalchemy.ext.declarative import declarative_base\n",
    "from geoalchemy2 import Geometry\n",
    "Base = declarative_base()\n",
    "class Test(Base):\n",
    "    __tablename__ = 'test1'\n",
    "    id = Column(Integer, primary_key=True)\n",
    "    name = Column(String)\n",
    "    foo = Column(String)\n",
    "    geom = Column(Geometry(geometry_type='MULTIPOLYGON', srid=4326, spatial_index=False, management=True))"
   ]
  },
  {
   "cell_type": "code",
   "execution_count": 32,
   "metadata": {},
   "outputs": [
    {
     "name": "stdout",
     "output_type": "stream",
     "text": [
      "(\n",
      "    ATTRIBUTE name = LITERAL 'foo'\n",
      ") OR (\n",
      "    (\n",
      "            ATTRIBUTE id BETWEEN LITERAL 1.0 AND LITERAL 3.0\n",
      "    ) OR (\n",
      "            BBOX(ATTRIBUTE geom, LITERAL 0.0, LITERAL 0.0, LITERAL 1.0, LITERAL 1.0, 'EPSG:4326')\n",
      "    )\n",
      ")\n",
      "<class 'sqlalchemy.orm.attributes.InstrumentedAttribute'> <class 'str'>\n",
      "<class 'tuple'>\n",
      "<class 'sqlalchemy.sql.elements.BooleanClauseList'> <class 'geoalchemy2.functions.ST_Intersects'>\n",
      "<class 'tuple'>\n",
      "<class 'sqlalchemy.sql.elements.BinaryExpression'> <class 'sqlalchemy.sql.elements.BooleanClauseList'>\n",
      "......./n\n",
      "SELECT test1.id AS test1_id, test1.name AS test1_name, test1.foo AS test1_foo, ST_AsEWKB(test1.geom) AS test1_geom \n",
      "FROM test1 \n",
      "WHERE test1.name = :name_1 OR test1.id >= :id_1 AND test1.id <= :id_2 OR ST_Intersects(test1.geom, ST_Transform(ST_MakeEnvelope(:ST_MakeEnvelope_1, :ST_MakeEnvelope_2, :ST_MakeEnvelope_3, :ST_MakeEnvelope_4, :ST_MakeEnvelope_5), :ST_Transform_1))\n"
     ]
    }
   ],
   "source": [
    "import pycql\n",
    "from pycql.integrations.sqlalchemy import to_filter, parse\n",
    "from sqlalchemy.orm import Query\n",
    "from sqlalchemy.dialects import postgresql\n",
    "from pprint import pprint\n",
    "q=Query(Test)\n",
    "id=5\n",
    "foo='a'\n",
    "a='b'\n",
    "ast = pycql.parse('name = \"foo\" OR (id BETWEEN 1 AND 3) OR BBOX(geom, 0, 0, 1, 1, \"EPSG:4326\")')\n",
    "# ast = pycql.parse('(foo = \"boo\" AND name <= \"Z\") OR (id = 2 AND name = \"foo\" AND foo = \"bork\") OR (id = 2 AND name = \"test\" )')\n",
    "# ast = pycql.parse('name = \"test\"')\n",
    "print(pycql.get_repr(ast))\n",
    "filters = to_filter(ast, Test)\n",
    "print('......./n')\n",
    "\n",
    "print(str(q.filter(filters)))"
   ]
  },
  {
   "cell_type": "code",
   "execution_count": 33,
   "metadata": {},
   "outputs": [
    {
     "name": "stdout",
     "output_type": "stream",
     "text": [
      "2020-08-19 15:53:09,376 INFO sqlalchemy.engine.base.Engine SELECT CAST('test plain returns' AS VARCHAR(60)) AS anon_1\n",
      "2020-08-19 15:53:09,378 INFO sqlalchemy.engine.base.Engine ()\n",
      "2020-08-19 15:53:09,381 INFO sqlalchemy.engine.base.Engine SELECT CAST('test unicode returns' AS VARCHAR(60)) AS anon_1\n",
      "2020-08-19 15:53:09,382 INFO sqlalchemy.engine.base.Engine ()\n",
      "2020-08-19 15:53:09,386 INFO sqlalchemy.engine.base.Engine SELECT InitSpatialMetaData() AS \"InitSpatialMetaData_1\"\n",
      "2020-08-19 15:53:09,386 INFO sqlalchemy.engine.base.Engine ()\n",
      "2020-08-19 15:53:09,446 INFO sqlalchemy.engine.base.Engine PRAGMA main.table_info(\"test1\")\n",
      "2020-08-19 15:53:09,446 INFO sqlalchemy.engine.base.Engine ()\n",
      "2020-08-19 15:53:09,447 INFO sqlalchemy.engine.base.Engine PRAGMA temp.table_info(\"test1\")\n",
      "2020-08-19 15:53:09,447 INFO sqlalchemy.engine.base.Engine ()\n",
      "2020-08-19 15:53:09,449 INFO sqlalchemy.engine.base.Engine \n",
      "CREATE TABLE test1 (\n",
      "\tid INTEGER NOT NULL, \n",
      "\tname VARCHAR, \n",
      "\tfoo VARCHAR, \n",
      "\tPRIMARY KEY (id)\n",
      ")\n",
      "\n",
      "\n",
      "2020-08-19 15:53:09,450 INFO sqlalchemy.engine.base.Engine ()\n",
      "2020-08-19 15:53:09,451 INFO sqlalchemy.engine.base.Engine COMMIT\n",
      "2020-08-19 15:53:09,452 INFO sqlalchemy.engine.base.Engine SELECT AddGeometryColumn(?, ?, ?, ?, ?) AS \"AddGeometryColumn_1\"\n",
      "2020-08-19 15:53:09,452 INFO sqlalchemy.engine.base.Engine ('test1', 'geom', 4326, 'MULTIPOLYGON', 2)\n",
      "2020-08-19 15:53:09,456 INFO sqlalchemy.engine.base.Engine COMMIT\n",
      "2020-08-19 15:53:09,458 INFO sqlalchemy.engine.base.Engine BEGIN (implicit)\n",
      "2020-08-19 15:53:09,460 INFO sqlalchemy.engine.base.Engine INSERT INTO test1 (id, name, foo, geom) VALUES (?, ?, ?, GeomFromEWKT(?))\n",
      "2020-08-19 15:53:09,461 INFO sqlalchemy.engine.base.Engine (1, 'test', 'foo', 'SRID=4326;MULTIPOLYGON(((0 0, 0 5, 5 5,5 0,0 0)))')\n",
      "2020-08-19 15:53:09,462 INFO sqlalchemy.engine.base.Engine COMMIT\n"
     ]
    }
   ],
   "source": [
    "from sqlalchemy import create_engine\n",
    "from sqlalchemy.orm import sessionmaker\n",
    "from sqlalchemy.event import listen\n",
    "from sqlalchemy import inspect\n",
    "from sqlalchemy.sql import select, func\n",
    "\n",
    "def load_spatialite(dbapi_conn, connection_record):\n",
    "    dbapi_conn.enable_load_extension(True)\n",
    "    dbapi_conn.load_extension('/usr/lib/x86_64-linux-gnu/mod_spatialite.so')\n",
    "\n",
    "engine = create_engine('sqlite://', echo=True)\n",
    "listen(engine, 'connect', load_spatialite)\n",
    "\n",
    "conn = engine.connect()\n",
    "conn.execute(select([func.InitSpatialMetaData()]))\n",
    "\n",
    "Session = sessionmaker(bind=engine)\n",
    "session = Session()\n",
    "Base.metadata.create_all(engine)\n",
    "test = Test(id=1,name='test', foo='foo', geom='SRID=4326;MULTIPOLYGON(((0 0, 0 5, 5 5,5 0,0 0)))')\n",
    "session.add(test)\n",
    "session.commit()\n",
    "conn.close()\n",
    "\n"
   ]
  },
  {
   "cell_type": "code",
   "execution_count": null,
   "metadata": {},
   "outputs": [],
   "source": []
  }
 ],
 "metadata": {
  "kernelspec": {
   "display_name": "pysql",
   "language": "python",
   "name": "pysql"
  },
  "language_info": {
   "codemirror_mode": {
    "name": "ipython",
    "version": 3
   },
   "file_extension": ".py",
   "mimetype": "text/x-python",
   "name": "python",
   "nbconvert_exporter": "python",
   "pygments_lexer": "ipython3",
   "version": "3.8.2"
  }
 },
 "nbformat": 4,
 "nbformat_minor": 4
}
