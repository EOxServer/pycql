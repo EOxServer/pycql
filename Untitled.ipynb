{
 "cells": [
  {
   "cell_type": "code",
   "execution_count": 1,
   "metadata": {},
   "outputs": [],
   "source": [
    "import sqlalchemy\n",
    "from sqlalchemy.orm import Query"
   ]
  },
  {
   "cell_type": "code",
   "execution_count": 2,
   "metadata": {},
   "outputs": [
    {
     "name": "stdout",
     "output_type": "stream",
     "text": [
      "(True, False)\n"
     ]
    }
   ],
   "source": [
    "test='a'\n",
    "test1='b'\n",
    "\n",
    "from sqlalchemy.sql import and_, or_, not_\n",
    "print ((test < test1, test == test1))"
   ]
  },
  {
   "cell_type": "code",
   "execution_count": 3,
   "metadata": {},
   "outputs": [],
   "source": [
    "from sqlalchemy import Column, Integer, String\n",
    "from sqlalchemy.ext.declarative import declarative_base\n",
    "Base = declarative_base()\n",
    "class Test(Base):\n",
    "    __tablename__ = 'test'\n",
    "    id = Column(Integer, primary_key=True)\n",
    "    name = Column(String)\n",
    "    foo = Column(String)"
   ]
  },
  {
   "cell_type": "code",
   "execution_count": 9,
   "metadata": {},
   "outputs": [
    {
     "name": "stdout",
     "output_type": "stream",
     "text": [
      "(\n",
      "    ATTRIBUTE name = LITERAL 'foo'\n",
      ") OR (\n",
      "    NOT (\n",
      "            (\n",
      "                        ATTRIBUTE id = LITERAL 5.0\n",
      "            ) OR (\n",
      "                        ATTRIBUTE id = LITERAL 6.0\n",
      "            )\n",
      "    )\n",
      ")\n",
      "acc: test.id = :id_1 BinaryExpression | q: test.id = :id_1 BinaryExpression\n",
      "acc: test.name = :name_1 BinaryExpression | q: NOT (test.id = :id_1 OR test.id = :id_2) UnaryExpression\n",
      "......./n\n"
     ]
    },
    {
     "data": {
      "text/plain": [
       "'SELECT test.id AS test_id, test.name AS test_name, test.foo AS test_foo \\nFROM test \\nWHERE test.name = :name_1 OR NOT (test.id = :id_1 OR test.id = :id_2)'"
      ]
     },
     "execution_count": 9,
     "metadata": {},
     "output_type": "execute_result"
    }
   ],
   "source": [
    "import pycql\n",
    "from pycql.integrations.sqlalchemy import to_filter, parse\n",
    "from sqlalchemy.orm import Query\n",
    "from sqlalchemy.dialects import postgresql\n",
    "from pprint import pprint\n",
    "q=Query(Test)\n",
    "id=5\n",
    "foo='a'\n",
    "a='b'\n",
    "ast = pycql.parse('name = \"foo\" OR NOT (id = 5 OR id = 6)')\n",
    "# ast = pycql.parse('(foo = \"boo\" AND name <= \"Z\") OR (id = 2 AND name = \"foo\" AND foo = \"bork\") OR (id = 2 AND name = \"test\" )')\n",
    "# ast = pycql.parse('name = \"test\"')\n",
    "print(pycql.get_repr(ast))\n",
    "filters = to_filter(ast, Test)\n",
    "print('......./n')\n",
    "\n",
    "str(q.filter(filters))"
   ]
  },
  {
   "cell_type": "code",
   "execution_count": null,
   "metadata": {},
   "outputs": [],
   "source": []
  }
 ],
 "metadata": {
  "kernelspec": {
   "display_name": "pysql",
   "language": "python",
   "name": "pysql"
  },
  "language_info": {
   "codemirror_mode": {
    "name": "ipython",
    "version": 3
   },
   "file_extension": ".py",
   "mimetype": "text/x-python",
   "name": "python",
   "nbconvert_exporter": "python",
   "pygments_lexer": "ipython3",
   "version": "3.8.2"
  }
 },
 "nbformat": 4,
 "nbformat_minor": 4
}
