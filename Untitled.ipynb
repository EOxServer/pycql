{
 "cells": [
  {
   "cell_type": "code",
   "execution_count": 1,
   "metadata": {},
   "outputs": [],
   "source": [
    "import sqlalchemy\n",
    "from sqlalchemy.orm import Query"
   ]
  },
  {
   "cell_type": "code",
   "execution_count": 2,
   "metadata": {},
   "outputs": [
    {
     "name": "stdout",
     "output_type": "stream",
     "text": [
      "(True, False)\n"
     ]
    }
   ],
   "source": [
    "test='a'\n",
    "test1='b'\n",
    "\n",
    "from sqlalchemy.sql import and_, or_, not_\n",
    "print ((test < test1, test == test1))"
   ]
  },
  {
   "cell_type": "code",
   "execution_count": 3,
   "metadata": {},
   "outputs": [],
   "source": [
    "from sqlalchemy import Column, Integer, String\n",
    "from sqlalchemy.ext.declarative import declarative_base\n",
    "from geoalchemy2 import Geometry\n",
    "Base = declarative_base()\n",
    "class Test(Base):\n",
    "    __tablename__ = 'test'\n",
    "    id = Column(Integer, primary_key=True)\n",
    "    name = Column(String)\n",
    "    foo = Column(String)\n",
    "    geom = Column(Geometry)"
   ]
  },
  {
   "cell_type": "code",
   "execution_count": 9,
   "metadata": {},
   "outputs": [
    {
     "name": "stdout",
     "output_type": "stream",
     "text": [
      "(\n",
      "    ATTRIBUTE name = LITERAL 'foo'\n",
      ") OR (\n",
      "    (\n",
      "            ATTRIBUTE id BETWEEN LITERAL 1.0 AND LITERAL 3.0\n",
      "    ) OR (\n",
      "            DWITHIN(ATTRIBUTE geom, LITERAL GEOMETRY 'POINT(1 2)', LITERAL 10.0, 'kilometers')\n",
      "    )\n",
      ")\n",
      "......./n\n",
      "SELECT test.id AS test_id, test.name AS test_name, test.foo AS test_foo, ST_AsEWKB(test.geom) AS test_geom \n",
      "FROM test \n",
      "WHERE test.name = :name_1 OR test.id >= :id_1 AND test.id <= :id_2 OR ST_DWithin(test.geom, :ST_DWithin_1, :ST_DWithin_2)\n"
     ]
    }
   ],
   "source": [
    "import pycql\n",
    "from pycql.integrations.sqlalchemy import to_filter, parse\n",
    "from sqlalchemy.orm import Query\n",
    "from sqlalchemy.dialects import postgresql\n",
    "from pprint import pprint\n",
    "q=Query(Test)\n",
    "id=5\n",
    "foo='a'\n",
    "a='b'\n",
    "ast = pycql.parse('name = \"foo\" OR (id BETWEEN 1 AND 3) OR BBOX(geometry, 0, 0, 1, 1, \"EPSG:4326\")')\n",
    "# ast = pycql.parse('(foo = \"boo\" AND name <= \"Z\") OR (id = 2 AND name = \"foo\" AND foo = \"bork\") OR (id = 2 AND name = \"test\" )')\n",
    "# ast = pycql.parse('name = \"test\"')\n",
    "print(pycql.get_repr(ast))\n",
    "filters = to_filter(ast, Test)\n",
    "print('......./n')\n",
    "\n",
    "print(str(q.filter(filters)))"
   ]
  },
  {
   "cell_type": "code",
   "execution_count": null,
   "metadata": {},
   "outputs": [],
   "source": []
  }
 ],
 "metadata": {
  "kernelspec": {
   "display_name": "pysql",
   "language": "python",
   "name": "pysql"
  },
  "language_info": {
   "codemirror_mode": {
    "name": "ipython",
    "version": 3
   },
   "file_extension": ".py",
   "mimetype": "text/x-python",
   "name": "python",
   "nbconvert_exporter": "python",
   "pygments_lexer": "ipython3",
   "version": "3.8.2"
  }
 },
 "nbformat": 4,
 "nbformat_minor": 4
}
